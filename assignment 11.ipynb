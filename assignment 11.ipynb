{
 "cells": [
  {
   "cell_type": "code",
   "execution_count": null,
   "id": "f317d441",
   "metadata": {},
   "outputs": [],
   "source": [
    "1. Create an assert statement that throws an AssertionError if the variable spam is a negative\n",
    "integer.\n",
    "ANSWER:\n",
    "    assert spam > 0\n",
    "     spam is less than 0 .is shows error when we enter a negative value."
   ]
  },
  {
   "cell_type": "code",
   "execution_count": null,
   "id": "25891242",
   "metadata": {},
   "outputs": [],
   "source": [
    "2. Write an assert statement that triggers an AssertionError if the variables eggs and bacon contain\n",
    "strings that are the same as each other, even if their cases are different (that is, 'hello' and 'hello' are\n",
    "considered the same, and 'goodbye' and 'GOODbye' are also considered the same).\n",
    "ANSWER:\n",
    "    assert eggs.lower() != bacon.lower()\n",
    "    if strings in eggs and bacon are lower it doesnt show  assertion error.\n",
    "    assert eggs.upper()!=bacon.upper()\n",
    "    is strings in eggs and bacon are upper it shows assertion error."
   ]
  },
  {
   "cell_type": "code",
   "execution_count": null,
   "id": "a8a864cd",
   "metadata": {},
   "outputs": [],
   "source": [
    "3. Create an assert statement that throws an AssertionError every time.\n",
    "ANSWER:\n",
    "    assert false\n",
    "    this assertion always shows error"
   ]
  },
  {
   "cell_type": "code",
   "execution_count": null,
   "id": "994e3951",
   "metadata": {},
   "outputs": [],
   "source": [
    "4. What are the two lines that must be present in your software in order to call logging.debug()?\n",
    "ANSWER:\n",
    "    import logging\n",
    "    logging.basicConfig(level=logging.DEBUG, format=' %(asctime)s %(levelname)s %(message)s')\n",
    "    first we need to import logging\n",
    "    next we need to create a level of log starts from debug"
   ]
  },
  {
   "cell_type": "code",
   "execution_count": null,
   "id": "8cd1fab7",
   "metadata": {},
   "outputs": [],
   "source": [
    "5. What are the two lines that your program must have in order to have logging.debug() send a\n",
    "logging message to a file named programLog.txt?\n",
    "ANSWER:\n",
    "    import logging\n",
    "    logging.basicConfig(filename='programLog.txt', level=logging.DEBUG,format=' %(asctime)s  %(levelname)s  %(message)s')\n",
    "    we need to import logging\n",
    "    next we need to create a file or give the existing file name so that the logging details store in that file\n",
    "    we need to set level as debug"
   ]
  },
  {
   "cell_type": "code",
   "execution_count": null,
   "id": "f83b73a1",
   "metadata": {},
   "outputs": [],
   "source": [
    "6. What are the five levels of logging?\n",
    "ANWER:\n",
    "    ERROR,WARNING,INFO,DEBUG and CRITICAL"
   ]
  },
  {
   "cell_type": "code",
   "execution_count": null,
   "id": "bfe4d81a",
   "metadata": {},
   "outputs": [],
   "source": [
    "7. What line of code would you add to your software to disable all logging messages?\n",
    "ANSWER:\n",
    "    we need to use logging.disable(logging.CRITICAL) to disable all logging messages"
   ]
  },
  {
   "cell_type": "code",
   "execution_count": null,
   "id": "ed0b3295",
   "metadata": {},
   "outputs": [],
   "source": [
    "8.Why is using logging messages better than using print() to display the same message?\n",
    "ANSWER:\n",
    "    You can disable logging messages without removing the logging function calls.\n",
    "    You can selectively disable lower-level logging messages. You can create logging messages. \n",
    "    Logging messages provides a timestamp."
   ]
  },
  {
   "cell_type": "code",
   "execution_count": null,
   "id": "58be5ade",
   "metadata": {},
   "outputs": [],
   "source": [
    "9. What are the differences between the Step Over, Step In, and Step Out buttons in the debugger?\n",
    "ANSWER:\n",
    "    The Step in button will move the debugger into a function call.\n",
    "    The Over button will quickly execute the function call without stepping into it. \n",
    "    The Out button will quickly execute the rest of the code until it steps out of the function it currently is in."
   ]
  },
  {
   "cell_type": "code",
   "execution_count": null,
   "id": "22a34726",
   "metadata": {},
   "outputs": [],
   "source": [
    "10.After you click Continue, when will the debugger stop ?\n",
    "ANSWER:\n",
    "    Continue, only stop when a breakpoint is encountered."
   ]
  },
  {
   "cell_type": "code",
   "execution_count": null,
   "id": "ebc97b51",
   "metadata": {},
   "outputs": [],
   "source": [
    "11. What is the concept of a breakpoint?\n",
    "ANSWER:\n",
    "    A breakpoint is a setting on a line of code that causes the debugger to pause when the program execution reaches the line."
   ]
  }
 ],
 "metadata": {
  "kernelspec": {
   "display_name": "Python 3 (ipykernel)",
   "language": "python",
   "name": "python3"
  },
  "language_info": {
   "codemirror_mode": {
    "name": "ipython",
    "version": 3
   },
   "file_extension": ".py",
   "mimetype": "text/x-python",
   "name": "python",
   "nbconvert_exporter": "python",
   "pygments_lexer": "ipython3",
   "version": "3.9.13"
  }
 },
 "nbformat": 4,
 "nbformat_minor": 5
}
